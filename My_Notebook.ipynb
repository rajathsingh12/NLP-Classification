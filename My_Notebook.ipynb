{
  "nbformat": 4,
  "nbformat_minor": 0,
  "metadata": {
    "colab": {
      "name": "My Notebook.ipynb",
      "version": "0.3.2",
      "provenance": [],
      "collapsed_sections": []
    },
    "language_info": {
      "codemirror_mode": {
        "name": "ipython",
        "version": 3
      },
      "file_extension": ".py",
      "mimetype": "text/x-python",
      "name": "python",
      "nbconvert_exporter": "python",
      "pygments_lexer": "ipython3",
      "version": "3.7.1"
    },
    "kernelspec": {
      "display_name": "Python 3",
      "language": "python",
      "name": "python3"
    }
  },
  "cells": [
    {
      "cell_type": "markdown",
      "metadata": {
        "id": "oM0ok2HYmQsG",
        "colab_type": "text"
      },
      "source": [
        "##  Importing The Necessary Libraries."
      ]
    },
    {
      "cell_type": "code",
      "metadata": {
        "id": "Z3gmSTNQ7syz",
        "colab_type": "code",
        "colab": {}
      },
      "source": [
        "import numpy as np\n",
        "import tensorflow as tf\n",
        "import time\n",
        "import re\n",
        "import pandas as pd"
      ],
      "execution_count": 0,
      "outputs": []
    },
    {
      "cell_type": "markdown",
      "metadata": {
        "id": "0IUojPm3mh0d",
        "colab_type": "text"
      },
      "source": [
        "## Creating an empty list to append the itmes from the text file."
      ]
    },
    {
      "cell_type": "code",
      "metadata": {
        "id": "3cGJ64U_7szG",
        "colab_type": "code",
        "colab": {}
      },
      "source": [
        "# Creating an empty list to append the title\n",
        "job_title = []"
      ],
      "execution_count": 0,
      "outputs": []
    },
    {
      "cell_type": "markdown",
      "metadata": {
        "id": "tm0vXDrFmq1w",
        "colab_type": "text"
      },
      "source": [
        "## Reading and cleaning the data file and appending it to the above list."
      ]
    },
    {
      "cell_type": "code",
      "metadata": {
        "id": "JPtpeu4n7szQ",
        "colab_type": "code",
        "colab": {}
      },
      "source": [
        "# Reading hte file and Stripping the white spaces, removing the comma, and apostrophe.\n",
        "with open('corpus.txt') as f:\n",
        "    for line in f:\n",
        "        job_title.append(line.strip().replace(',','').replace(\"'\", ''))"
      ],
      "execution_count": 0,
      "outputs": []
    },
    {
      "cell_type": "markdown",
      "metadata": {
        "id": "4Sui1vlcm1X_",
        "colab_type": "text"
      },
      "source": [
        "## Cleaning the Job Titles"
      ]
    },
    {
      "cell_type": "code",
      "metadata": {
        "id": "M8o8muzj7szZ",
        "colab_type": "code",
        "colab": {}
      },
      "source": [
        "# Converting the short forms of the titles to full form\n",
        "job_title[1] = job_title[1].replace('Sales Rep', 'Sales Representative')\n",
        "job_title[2] = job_title[2].replace('Sales Rep', 'Sales Representative')\n",
        "job_title[4] = job_title[4].replace('Vp', 'Vice President')\n",
        "job_title[45] = job_title[45].replace('COO', 'Chief Operating Officer')\n",
        "job_title[67] = job_title[67].replace('Vp', 'Vice President')\n",
        "job_title[68] = job_title[68].replace('Vp', 'Vice President')\n",
        "job_title[79] = job_title[79].replace('CMO', 'Chief Marketing Officer')\n",
        "job_title[100] = job_title[100].replace('CFO', 'Chief Financial Officer')"
      ],
      "execution_count": 0,
      "outputs": []
    },
    {
      "cell_type": "markdown",
      "metadata": {
        "id": "nclBEadNm-0K",
        "colab_type": "text"
      },
      "source": [
        "## A glimpse of the data."
      ]
    },
    {
      "cell_type": "code",
      "metadata": {
        "id": "onpiA4D37szi",
        "colab_type": "code",
        "outputId": "92903c6a-8241-430a-b9f5-794ca211bf11",
        "colab": {
          "base_uri": "https://localhost:8080/",
          "height": 201
        }
      },
      "source": [
        "job_title[0:10]"
      ],
      "execution_count": 45,
      "outputs": [
        {
          "output_type": "execute_result",
          "data": {
            "text/plain": [
              "['Sales Representative',\n",
              " 'Sales Representative',\n",
              " 'Sales Representative',\n",
              " 'publisher',\n",
              " 'Senior Vice President',\n",
              " 'Risk Management',\n",
              " 'Regional Manager',\n",
              " 'Transportation Manager',\n",
              " 'Vice President Bank',\n",
              " 'Government Relations']"
            ]
          },
          "metadata": {
            "tags": []
          },
          "execution_count": 45
        }
      ]
    },
    {
      "cell_type": "code",
      "metadata": {
        "id": "MxL2NCPY7szu",
        "colab_type": "code",
        "outputId": "8d3ffa19-9670-4217-f7d3-b6455f300c37",
        "colab": {
          "base_uri": "https://localhost:8080/",
          "height": 35
        }
      },
      "source": [
        "# All Commas and Apostrophe removed\n",
        "job_title[1]"
      ],
      "execution_count": 46,
      "outputs": [
        {
          "output_type": "execute_result",
          "data": {
            "text/plain": [
              "'Sales Representative'"
            ]
          },
          "metadata": {
            "tags": []
          },
          "execution_count": 46
        }
      ]
    },
    {
      "cell_type": "markdown",
      "metadata": {
        "id": "ePYnq7X-nPwC",
        "colab_type": "text"
      },
      "source": [
        "## Converting the whole list elements to Lower Case."
      ]
    },
    {
      "cell_type": "code",
      "metadata": {
        "id": "-9vx6DF87sz5",
        "colab_type": "code",
        "colab": {}
      },
      "source": [
        "# To convert the case to lower\n",
        "lower = []\n",
        "for i in job_title:\n",
        "    lower.append(i.lower())"
      ],
      "execution_count": 0,
      "outputs": []
    },
    {
      "cell_type": "code",
      "metadata": {
        "id": "gmsPiHxB7sz_",
        "colab_type": "code",
        "outputId": "ced3a766-9ff7-4299-f2c3-f6f0f06570c4",
        "colab": {
          "base_uri": "https://localhost:8080/",
          "height": 201
        }
      },
      "source": [
        "lower[0:10]"
      ],
      "execution_count": 48,
      "outputs": [
        {
          "output_type": "execute_result",
          "data": {
            "text/plain": [
              "['sales representative',\n",
              " 'sales representative',\n",
              " 'sales representative',\n",
              " 'publisher',\n",
              " 'senior vice president',\n",
              " 'risk management',\n",
              " 'regional manager',\n",
              " 'transportation manager',\n",
              " 'vice president bank',\n",
              " 'government relations']"
            ]
          },
          "metadata": {
            "tags": []
          },
          "execution_count": 48
        }
      ]
    },
    {
      "cell_type": "markdown",
      "metadata": {
        "id": "zmshJaK7nXHy",
        "colab_type": "text"
      },
      "source": [
        "## Using 'SET' function to filter out the duplicates."
      ]
    },
    {
      "cell_type": "code",
      "metadata": {
        "id": "Xn1DIAYg7s0J",
        "colab_type": "code",
        "colab": {}
      },
      "source": [
        "# Removing Repeats or Duplicates. From 113 to 77 Job Titles. 36 Duplicate Job Titles are removed. \n",
        "remove_duplicates = list(set(lower))"
      ],
      "execution_count": 0,
      "outputs": []
    },
    {
      "cell_type": "markdown",
      "metadata": {
        "id": "9q9IGEJqne7m",
        "colab_type": "text"
      },
      "source": [
        "## Converting List to DataFrame with the column as Job Title."
      ]
    },
    {
      "cell_type": "code",
      "metadata": {
        "id": "DOxhVlCR7s0S",
        "colab_type": "code",
        "colab": {}
      },
      "source": [
        "# Create DataFrame with a column name.\n",
        "df = pd.DataFrame(remove_duplicates, columns = ['Job Title'])"
      ],
      "execution_count": 0,
      "outputs": []
    },
    {
      "cell_type": "markdown",
      "metadata": {
        "id": "DIoMt0BBoFA6",
        "colab_type": "text"
      },
      "source": [
        "## Creating a dict to add the specific Tags(Labels) to selected Titles."
      ]
    },
    {
      "cell_type": "code",
      "metadata": {
        "id": "bZr7nvFE7s0k",
        "colab_type": "code",
        "colab": {}
      },
      "source": [
        "# Create a dict with 'Job Title' as \"Keys\" and 'Tags' as \"Values\"\n",
        "d = {'editor' : 'automation', \n",
        "     'publisher': 'automation', \n",
        "     'writer' : 'automation'}"
      ],
      "execution_count": 0,
      "outputs": []
    },
    {
      "cell_type": "markdown",
      "metadata": {
        "id": "D3naR5o3oSpx",
        "colab_type": "text"
      },
      "source": [
        "## Using some Pandas Function to manipulate the data and map the above dict to the following Titles."
      ]
    },
    {
      "cell_type": "code",
      "metadata": {
        "id": "u9_lX4jL7s0q",
        "colab_type": "code",
        "colab": {}
      },
      "source": [
        "'''This creates a new column and splits the job title values and applies the lambda function and replaces the values \n",
        "   that are not present in the dictionary above. '''\n",
        "   \n",
        "df['Tag'] = (df['Job Title']\n",
        "                 .str.split(expand=True)\n",
        "                 .apply(lambda x: x.map(d).add(' | ').fillna(''))\n",
        "                 .sum(axis=1)\n",
        "                 .str.rstrip(' | ')\n",
        "                 .replace('', 'seo'))"
      ],
      "execution_count": 0,
      "outputs": []
    },
    {
      "cell_type": "markdown",
      "metadata": {
        "id": "skN9IX4-os0J",
        "colab_type": "text"
      },
      "source": [
        "## Here we separate the 'Title' for 'Automation' by creating respective DataFrames.\n"
      ]
    },
    {
      "cell_type": "code",
      "metadata": {
        "id": "o25qCn3yl7xQ",
        "colab_type": "code",
        "colab": {}
      },
      "source": [
        "# Filtering Out Only Automation\n",
        "editor = df[df['Job Title'].str.contains('editor')]\n",
        "publisher =  df[df['Job Title'].str.contains('publisher')]\n",
        "writer = df[df['Job Title'].str.contains('writer')]"
      ],
      "execution_count": 0,
      "outputs": []
    },
    {
      "cell_type": "markdown",
      "metadata": {
        "id": "eGzUy8xapEt_",
        "colab_type": "text"
      },
      "source": [
        "## Here we separate the 'Title' for 'SEO' by creating respective DataFrames.\n"
      ]
    },
    {
      "cell_type": "code",
      "metadata": {
        "id": "tZblX0oul_wS",
        "colab_type": "code",
        "colab": {}
      },
      "source": [
        "# Filtering Out Only SEO\n",
        "manager = df[df['Job Title'].str.contains('manager')]\n",
        "owner = df[df['Job Title'].str.contains('owner')]\n",
        "marketing = df[df['Job Title'].str.contains('marketing')]\n",
        "media = df[df['Job Title'].str.contains('media')]\n",
        "corporate_communication = df[df['Job Title'].str.contains('corporate_communication')]"
      ],
      "execution_count": 0,
      "outputs": []
    },
    {
      "cell_type": "markdown",
      "metadata": {
        "id": "Z_Hg9k-WpLde",
        "colab_type": "text"
      },
      "source": [
        "## Finally we append everything together, ignoring the indexs."
      ]
    },
    {
      "cell_type": "code",
      "metadata": {
        "id": "fSNKhFu0mCEW",
        "colab_type": "code",
        "colab": {}
      },
      "source": [
        "# Combining all the data frames to one ignoring the index.\n",
        "final = pd.concat([editor, publisher, writer, manager, owner, marketing, media, corporate_communication], ignore_index=True)"
      ],
      "execution_count": 0,
      "outputs": []
    },
    {
      "cell_type": "markdown",
      "metadata": {
        "id": "jrILAASspTtz",
        "colab_type": "text"
      },
      "source": [
        "## Count of the Final df that we require."
      ]
    },
    {
      "cell_type": "code",
      "metadata": {
        "id": "fRh1cbjU7s1K",
        "colab_type": "code",
        "outputId": "cdff55be-5a88-4f14-c14f-3c3ad1c09930",
        "colab": {
          "base_uri": "https://localhost:8080/",
          "height": 72
        }
      },
      "source": [
        "# Everything cleaned and perfect. \n",
        "final.count()"
      ],
      "execution_count": 56,
      "outputs": [
        {
          "output_type": "execute_result",
          "data": {
            "text/plain": [
              "Job Title    35\n",
              "Tag          35\n",
              "dtype: int64"
            ]
          },
          "metadata": {
            "tags": []
          },
          "execution_count": 56
        }
      ]
    },
    {
      "cell_type": "markdown",
      "metadata": {
        "id": "WtWayzylpZl2",
        "colab_type": "text"
      },
      "source": [
        "## Shape of the df."
      ]
    },
    {
      "cell_type": "code",
      "metadata": {
        "id": "6h3dHve1mISl",
        "colab_type": "code",
        "outputId": "1041e8d2-28d6-41f6-bd5a-c0858e689f37",
        "colab": {
          "base_uri": "https://localhost:8080/",
          "height": 35
        }
      },
      "source": [
        "final.shape"
      ],
      "execution_count": 57,
      "outputs": [
        {
          "output_type": "execute_result",
          "data": {
            "text/plain": [
              "(35, 2)"
            ]
          },
          "metadata": {
            "tags": []
          },
          "execution_count": 57
        }
      ]
    },
    {
      "cell_type": "code",
      "metadata": {
        "id": "ivut8TW1rbU9",
        "colab_type": "code",
        "outputId": "a77523c2-5948-4181-fd59-a03ff238d36d",
        "colab": {
          "base_uri": "https://localhost:8080/",
          "height": 1147
        }
      },
      "source": [
        "final"
      ],
      "execution_count": 58,
      "outputs": [
        {
          "output_type": "execute_result",
          "data": {
            "text/html": [
              "<div>\n",
              "<style scoped>\n",
              "    .dataframe tbody tr th:only-of-type {\n",
              "        vertical-align: middle;\n",
              "    }\n",
              "\n",
              "    .dataframe tbody tr th {\n",
              "        vertical-align: top;\n",
              "    }\n",
              "\n",
              "    .dataframe thead th {\n",
              "        text-align: right;\n",
              "    }\n",
              "</style>\n",
              "<table border=\"1\" class=\"dataframe\">\n",
              "  <thead>\n",
              "    <tr style=\"text-align: right;\">\n",
              "      <th></th>\n",
              "      <th>Job Title</th>\n",
              "      <th>Tag</th>\n",
              "    </tr>\n",
              "  </thead>\n",
              "  <tbody>\n",
              "    <tr>\n",
              "      <th>0</th>\n",
              "      <td>news editor</td>\n",
              "      <td>automation</td>\n",
              "    </tr>\n",
              "    <tr>\n",
              "      <th>1</th>\n",
              "      <td>policy editor</td>\n",
              "      <td>automation</td>\n",
              "    </tr>\n",
              "    <tr>\n",
              "      <th>2</th>\n",
              "      <td>associate editor</td>\n",
              "      <td>automation</td>\n",
              "    </tr>\n",
              "    <tr>\n",
              "      <th>3</th>\n",
              "      <td>publisher</td>\n",
              "      <td>automation</td>\n",
              "    </tr>\n",
              "    <tr>\n",
              "      <th>4</th>\n",
              "      <td>staff writer</td>\n",
              "      <td>automation</td>\n",
              "    </tr>\n",
              "    <tr>\n",
              "      <th>5</th>\n",
              "      <td>senior manager</td>\n",
              "      <td>seo</td>\n",
              "    </tr>\n",
              "    <tr>\n",
              "      <th>6</th>\n",
              "      <td>retention manager</td>\n",
              "      <td>seo</td>\n",
              "    </tr>\n",
              "    <tr>\n",
              "      <th>7</th>\n",
              "      <td>transportation manager</td>\n",
              "      <td>seo</td>\n",
              "    </tr>\n",
              "    <tr>\n",
              "      <th>8</th>\n",
              "      <td>service manager</td>\n",
              "      <td>seo</td>\n",
              "    </tr>\n",
              "    <tr>\n",
              "      <th>9</th>\n",
              "      <td>business development manager</td>\n",
              "      <td>seo</td>\n",
              "    </tr>\n",
              "    <tr>\n",
              "      <th>10</th>\n",
              "      <td>marketing communications manager</td>\n",
              "      <td>seo</td>\n",
              "    </tr>\n",
              "    <tr>\n",
              "      <th>11</th>\n",
              "      <td>grants manager</td>\n",
              "      <td>seo</td>\n",
              "    </tr>\n",
              "    <tr>\n",
              "      <th>12</th>\n",
              "      <td>branch manager</td>\n",
              "      <td>seo</td>\n",
              "    </tr>\n",
              "    <tr>\n",
              "      <th>13</th>\n",
              "      <td>regional manager</td>\n",
              "      <td>seo</td>\n",
              "    </tr>\n",
              "    <tr>\n",
              "      <th>14</th>\n",
              "      <td>sales manager</td>\n",
              "      <td>seo</td>\n",
              "    </tr>\n",
              "    <tr>\n",
              "      <th>15</th>\n",
              "      <td>project manager</td>\n",
              "      <td>seo</td>\n",
              "    </tr>\n",
              "    <tr>\n",
              "      <th>16</th>\n",
              "      <td>marketing manager</td>\n",
              "      <td>seo</td>\n",
              "    </tr>\n",
              "    <tr>\n",
              "      <th>17</th>\n",
              "      <td>trade manager</td>\n",
              "      <td>seo</td>\n",
              "    </tr>\n",
              "    <tr>\n",
              "      <th>18</th>\n",
              "      <td>customer relations manager</td>\n",
              "      <td>seo</td>\n",
              "    </tr>\n",
              "    <tr>\n",
              "      <th>19</th>\n",
              "      <td>account manager</td>\n",
              "      <td>seo</td>\n",
              "    </tr>\n",
              "    <tr>\n",
              "      <th>20</th>\n",
              "      <td>country manager</td>\n",
              "      <td>seo</td>\n",
              "    </tr>\n",
              "    <tr>\n",
              "      <th>21</th>\n",
              "      <td>area manager</td>\n",
              "      <td>seo</td>\n",
              "    </tr>\n",
              "    <tr>\n",
              "      <th>22</th>\n",
              "      <td>owner operator</td>\n",
              "      <td>seo</td>\n",
              "    </tr>\n",
              "    <tr>\n",
              "      <th>23</th>\n",
              "      <td>management marketing</td>\n",
              "      <td>seo</td>\n",
              "    </tr>\n",
              "    <tr>\n",
              "      <th>24</th>\n",
              "      <td>marketing coordinator</td>\n",
              "      <td>seo</td>\n",
              "    </tr>\n",
              "    <tr>\n",
              "      <th>25</th>\n",
              "      <td>vice president marketing</td>\n",
              "      <td>seo</td>\n",
              "    </tr>\n",
              "    <tr>\n",
              "      <th>26</th>\n",
              "      <td>marketing communications manager</td>\n",
              "      <td>seo</td>\n",
              "    </tr>\n",
              "    <tr>\n",
              "      <th>27</th>\n",
              "      <td>corporate marketing communications</td>\n",
              "      <td>seo</td>\n",
              "    </tr>\n",
              "    <tr>\n",
              "      <th>28</th>\n",
              "      <td>marketing manager</td>\n",
              "      <td>seo</td>\n",
              "    </tr>\n",
              "    <tr>\n",
              "      <th>29</th>\n",
              "      <td>marketing director</td>\n",
              "      <td>seo</td>\n",
              "    </tr>\n",
              "    <tr>\n",
              "      <th>30</th>\n",
              "      <td>director marketing communications</td>\n",
              "      <td>seo</td>\n",
              "    </tr>\n",
              "    <tr>\n",
              "      <th>31</th>\n",
              "      <td>chief marketing officer</td>\n",
              "      <td>seo</td>\n",
              "    </tr>\n",
              "    <tr>\n",
              "      <th>32</th>\n",
              "      <td>president corporate marketing</td>\n",
              "      <td>seo</td>\n",
              "    </tr>\n",
              "    <tr>\n",
              "      <th>33</th>\n",
              "      <td>media contact</td>\n",
              "      <td>seo</td>\n",
              "    </tr>\n",
              "    <tr>\n",
              "      <th>34</th>\n",
              "      <td>media services</td>\n",
              "      <td>seo</td>\n",
              "    </tr>\n",
              "  </tbody>\n",
              "</table>\n",
              "</div>"
            ],
            "text/plain": [
              "                             Job Title         Tag\n",
              "0                          news editor  automation\n",
              "1                        policy editor  automation\n",
              "2                     associate editor  automation\n",
              "3                            publisher  automation\n",
              "4                         staff writer  automation\n",
              "5                       senior manager         seo\n",
              "6                    retention manager         seo\n",
              "7               transportation manager         seo\n",
              "8                      service manager         seo\n",
              "9         business development manager         seo\n",
              "10    marketing communications manager         seo\n",
              "11                      grants manager         seo\n",
              "12                      branch manager         seo\n",
              "13                    regional manager         seo\n",
              "14                       sales manager         seo\n",
              "15                     project manager         seo\n",
              "16                   marketing manager         seo\n",
              "17                       trade manager         seo\n",
              "18          customer relations manager         seo\n",
              "19                     account manager         seo\n",
              "20                     country manager         seo\n",
              "21                        area manager         seo\n",
              "22                      owner operator         seo\n",
              "23                management marketing         seo\n",
              "24               marketing coordinator         seo\n",
              "25            vice president marketing         seo\n",
              "26    marketing communications manager         seo\n",
              "27  corporate marketing communications         seo\n",
              "28                   marketing manager         seo\n",
              "29                  marketing director         seo\n",
              "30   director marketing communications         seo\n",
              "31             chief marketing officer         seo\n",
              "32       president corporate marketing         seo\n",
              "33                       media contact         seo\n",
              "34                      media services         seo"
            ]
          },
          "metadata": {
            "tags": []
          },
          "execution_count": 58
        }
      ]
    },
    {
      "cell_type": "markdown",
      "metadata": {
        "id": "4e8IfqFOrNcp",
        "colab_type": "text"
      },
      "source": [
        "## Tagging the labels to 0 and 1"
      ]
    },
    {
      "cell_type": "code",
      "metadata": {
        "id": "3HeTF7kRrLjj",
        "colab_type": "code",
        "outputId": "8cac37f9-a912-4027-db6c-ded51a651693",
        "colab": {
          "base_uri": "https://localhost:8080/",
          "height": 1147
        }
      },
      "source": [
        "final['Tag'].replace({'automation':0,'seo':1},inplace=True)\n",
        "final"
      ],
      "execution_count": 59,
      "outputs": [
        {
          "output_type": "execute_result",
          "data": {
            "text/html": [
              "<div>\n",
              "<style scoped>\n",
              "    .dataframe tbody tr th:only-of-type {\n",
              "        vertical-align: middle;\n",
              "    }\n",
              "\n",
              "    .dataframe tbody tr th {\n",
              "        vertical-align: top;\n",
              "    }\n",
              "\n",
              "    .dataframe thead th {\n",
              "        text-align: right;\n",
              "    }\n",
              "</style>\n",
              "<table border=\"1\" class=\"dataframe\">\n",
              "  <thead>\n",
              "    <tr style=\"text-align: right;\">\n",
              "      <th></th>\n",
              "      <th>Job Title</th>\n",
              "      <th>Tag</th>\n",
              "    </tr>\n",
              "  </thead>\n",
              "  <tbody>\n",
              "    <tr>\n",
              "      <th>0</th>\n",
              "      <td>news editor</td>\n",
              "      <td>0</td>\n",
              "    </tr>\n",
              "    <tr>\n",
              "      <th>1</th>\n",
              "      <td>policy editor</td>\n",
              "      <td>0</td>\n",
              "    </tr>\n",
              "    <tr>\n",
              "      <th>2</th>\n",
              "      <td>associate editor</td>\n",
              "      <td>0</td>\n",
              "    </tr>\n",
              "    <tr>\n",
              "      <th>3</th>\n",
              "      <td>publisher</td>\n",
              "      <td>0</td>\n",
              "    </tr>\n",
              "    <tr>\n",
              "      <th>4</th>\n",
              "      <td>staff writer</td>\n",
              "      <td>0</td>\n",
              "    </tr>\n",
              "    <tr>\n",
              "      <th>5</th>\n",
              "      <td>senior manager</td>\n",
              "      <td>1</td>\n",
              "    </tr>\n",
              "    <tr>\n",
              "      <th>6</th>\n",
              "      <td>retention manager</td>\n",
              "      <td>1</td>\n",
              "    </tr>\n",
              "    <tr>\n",
              "      <th>7</th>\n",
              "      <td>transportation manager</td>\n",
              "      <td>1</td>\n",
              "    </tr>\n",
              "    <tr>\n",
              "      <th>8</th>\n",
              "      <td>service manager</td>\n",
              "      <td>1</td>\n",
              "    </tr>\n",
              "    <tr>\n",
              "      <th>9</th>\n",
              "      <td>business development manager</td>\n",
              "      <td>1</td>\n",
              "    </tr>\n",
              "    <tr>\n",
              "      <th>10</th>\n",
              "      <td>marketing communications manager</td>\n",
              "      <td>1</td>\n",
              "    </tr>\n",
              "    <tr>\n",
              "      <th>11</th>\n",
              "      <td>grants manager</td>\n",
              "      <td>1</td>\n",
              "    </tr>\n",
              "    <tr>\n",
              "      <th>12</th>\n",
              "      <td>branch manager</td>\n",
              "      <td>1</td>\n",
              "    </tr>\n",
              "    <tr>\n",
              "      <th>13</th>\n",
              "      <td>regional manager</td>\n",
              "      <td>1</td>\n",
              "    </tr>\n",
              "    <tr>\n",
              "      <th>14</th>\n",
              "      <td>sales manager</td>\n",
              "      <td>1</td>\n",
              "    </tr>\n",
              "    <tr>\n",
              "      <th>15</th>\n",
              "      <td>project manager</td>\n",
              "      <td>1</td>\n",
              "    </tr>\n",
              "    <tr>\n",
              "      <th>16</th>\n",
              "      <td>marketing manager</td>\n",
              "      <td>1</td>\n",
              "    </tr>\n",
              "    <tr>\n",
              "      <th>17</th>\n",
              "      <td>trade manager</td>\n",
              "      <td>1</td>\n",
              "    </tr>\n",
              "    <tr>\n",
              "      <th>18</th>\n",
              "      <td>customer relations manager</td>\n",
              "      <td>1</td>\n",
              "    </tr>\n",
              "    <tr>\n",
              "      <th>19</th>\n",
              "      <td>account manager</td>\n",
              "      <td>1</td>\n",
              "    </tr>\n",
              "    <tr>\n",
              "      <th>20</th>\n",
              "      <td>country manager</td>\n",
              "      <td>1</td>\n",
              "    </tr>\n",
              "    <tr>\n",
              "      <th>21</th>\n",
              "      <td>area manager</td>\n",
              "      <td>1</td>\n",
              "    </tr>\n",
              "    <tr>\n",
              "      <th>22</th>\n",
              "      <td>owner operator</td>\n",
              "      <td>1</td>\n",
              "    </tr>\n",
              "    <tr>\n",
              "      <th>23</th>\n",
              "      <td>management marketing</td>\n",
              "      <td>1</td>\n",
              "    </tr>\n",
              "    <tr>\n",
              "      <th>24</th>\n",
              "      <td>marketing coordinator</td>\n",
              "      <td>1</td>\n",
              "    </tr>\n",
              "    <tr>\n",
              "      <th>25</th>\n",
              "      <td>vice president marketing</td>\n",
              "      <td>1</td>\n",
              "    </tr>\n",
              "    <tr>\n",
              "      <th>26</th>\n",
              "      <td>marketing communications manager</td>\n",
              "      <td>1</td>\n",
              "    </tr>\n",
              "    <tr>\n",
              "      <th>27</th>\n",
              "      <td>corporate marketing communications</td>\n",
              "      <td>1</td>\n",
              "    </tr>\n",
              "    <tr>\n",
              "      <th>28</th>\n",
              "      <td>marketing manager</td>\n",
              "      <td>1</td>\n",
              "    </tr>\n",
              "    <tr>\n",
              "      <th>29</th>\n",
              "      <td>marketing director</td>\n",
              "      <td>1</td>\n",
              "    </tr>\n",
              "    <tr>\n",
              "      <th>30</th>\n",
              "      <td>director marketing communications</td>\n",
              "      <td>1</td>\n",
              "    </tr>\n",
              "    <tr>\n",
              "      <th>31</th>\n",
              "      <td>chief marketing officer</td>\n",
              "      <td>1</td>\n",
              "    </tr>\n",
              "    <tr>\n",
              "      <th>32</th>\n",
              "      <td>president corporate marketing</td>\n",
              "      <td>1</td>\n",
              "    </tr>\n",
              "    <tr>\n",
              "      <th>33</th>\n",
              "      <td>media contact</td>\n",
              "      <td>1</td>\n",
              "    </tr>\n",
              "    <tr>\n",
              "      <th>34</th>\n",
              "      <td>media services</td>\n",
              "      <td>1</td>\n",
              "    </tr>\n",
              "  </tbody>\n",
              "</table>\n",
              "</div>"
            ],
            "text/plain": [
              "                             Job Title  Tag\n",
              "0                          news editor    0\n",
              "1                        policy editor    0\n",
              "2                     associate editor    0\n",
              "3                            publisher    0\n",
              "4                         staff writer    0\n",
              "5                       senior manager    1\n",
              "6                    retention manager    1\n",
              "7               transportation manager    1\n",
              "8                      service manager    1\n",
              "9         business development manager    1\n",
              "10    marketing communications manager    1\n",
              "11                      grants manager    1\n",
              "12                      branch manager    1\n",
              "13                    regional manager    1\n",
              "14                       sales manager    1\n",
              "15                     project manager    1\n",
              "16                   marketing manager    1\n",
              "17                       trade manager    1\n",
              "18          customer relations manager    1\n",
              "19                     account manager    1\n",
              "20                     country manager    1\n",
              "21                        area manager    1\n",
              "22                      owner operator    1\n",
              "23                management marketing    1\n",
              "24               marketing coordinator    1\n",
              "25            vice president marketing    1\n",
              "26    marketing communications manager    1\n",
              "27  corporate marketing communications    1\n",
              "28                   marketing manager    1\n",
              "29                  marketing director    1\n",
              "30   director marketing communications    1\n",
              "31             chief marketing officer    1\n",
              "32       president corporate marketing    1\n",
              "33                       media contact    1\n",
              "34                      media services    1"
            ]
          },
          "metadata": {
            "tags": []
          },
          "execution_count": 59
        }
      ]
    },
    {
      "cell_type": "code",
      "metadata": {
        "id": "cKyDeP9vrUir",
        "colab_type": "code",
        "outputId": "37bb5389-4052-4fbb-a0c3-13a7dd96032e",
        "colab": {
          "base_uri": "https://localhost:8080/",
          "height": 283
        }
      },
      "source": [
        "final['Tag'].value_counts().plot.bar()"
      ],
      "execution_count": 60,
      "outputs": [
        {
          "output_type": "execute_result",
          "data": {
            "text/plain": [
              "<matplotlib.axes._subplots.AxesSubplot at 0x7eff59e730f0>"
            ]
          },
          "metadata": {
            "tags": []
          },
          "execution_count": 60
        },
        {
          "output_type": "display_data",
          "data": {
            "image/png": "[encoded data removed]",
            "text/plain": [
              "<Figure size 432x288 with 1 Axes>"
            ]
          },
          "metadata": {
            "tags": []
          }
        }
      ]
    },
    {
      "cell_type": "markdown",
      "metadata": {
        "id": "C7a2hNTdr1f0",
        "colab_type": "text"
      },
      "source": [
        "## Word Cloud"
      ]
    },
    {
      "cell_type": "code",
      "metadata": {
        "id": "VHmhSWOlrvR5",
        "colab_type": "code",
        "outputId": "e11dbe1d-ebb6-46cd-f357-c3dc74d7a37c",
        "colab": {
          "base_uri": "https://localhost:8080/",
          "height": 219
        }
      },
      "source": [
        "import matplotlib.pyplot as plt\n",
        "from nltk.corpus import reuters\n",
        "from wordcloud import WordCloud\n",
        "\n",
        "wc=WordCloud().generate(' '.join(final['Job Title']))\n",
        "plt.imshow(wc,interpolation='bilinear')\n",
        "plt.axis(\"off\")\n",
        "plt.show()"
      ],
      "execution_count": 61,
      "outputs": [
        {
          "output_type": "display_data",
          "data": {
            "image/png": "[encoded data removed]",
            "text/plain": [
              "<Figure size 432x288 with 1 Axes>"
            ]
          },
          "metadata": {
            "tags": []
          }
        }
      ]
    },
    {
      "cell_type": "markdown",
      "metadata": {
        "id": "YGP_KhSHuRpD",
        "colab_type": "text"
      },
      "source": [
        "##  Combining the words in Title\n"
      ]
    },
    {
      "cell_type": "code",
      "metadata": {
        "id": "b8vnyVFiuONR",
        "colab_type": "code",
        "colab": {}
      },
      "source": [
        "final['Job Title'] = final['Job Title'].str.replace(' ', '')"
      ],
      "execution_count": 0,
      "outputs": []
    },
    {
      "cell_type": "markdown",
      "metadata": {
        "id": "go_aaqmUvFW7",
        "colab_type": "text"
      },
      "source": [
        "## As we combine whole title, it becomes one word. :-)"
      ]
    },
    {
      "cell_type": "code",
      "metadata": {
        "id": "236MZ8lHvDoZ",
        "colab_type": "code",
        "outputId": "11e498b0-7265-4652-b5e0-dc288751ef21",
        "colab": {
          "base_uri": "https://localhost:8080/",
          "height": 678
        }
      },
      "source": [
        "final['Job Title']"
      ],
      "execution_count": 63,
      "outputs": [
        {
          "output_type": "execute_result",
          "data": {
            "text/plain": [
              "0                           newseditor\n",
              "1                         policyeditor\n",
              "2                      associateeditor\n",
              "3                            publisher\n",
              "4                          staffwriter\n",
              "5                        seniormanager\n",
              "6                     retentionmanager\n",
              "7                transportationmanager\n",
              "8                       servicemanager\n",
              "9           businessdevelopmentmanager\n",
              "10      marketingcommunicationsmanager\n",
              "11                       grantsmanager\n",
              "12                       branchmanager\n",
              "13                     regionalmanager\n",
              "14                        salesmanager\n",
              "15                      projectmanager\n",
              "16                    marketingmanager\n",
              "17                        trademanager\n",
              "18            customerrelationsmanager\n",
              "19                      accountmanager\n",
              "20                      countrymanager\n",
              "21                         areamanager\n",
              "22                       owneroperator\n",
              "23                 managementmarketing\n",
              "24                marketingcoordinator\n",
              "25              vicepresidentmarketing\n",
              "26      marketingcommunicationsmanager\n",
              "27    corporatemarketingcommunications\n",
              "28                    marketingmanager\n",
              "29                   marketingdirector\n",
              "30     directormarketingcommunications\n",
              "31               chiefmarketingofficer\n",
              "32         presidentcorporatemarketing\n",
              "33                        mediacontact\n",
              "34                       mediaservices\n",
              "Name: Job Title, dtype: object"
            ]
          },
          "metadata": {
            "tags": []
          },
          "execution_count": 63
        }
      ]
    },
    {
      "cell_type": "markdown",
      "metadata": {
        "id": "U01m23qhsSeb",
        "colab_type": "text"
      },
      "source": [
        "## Creating Dependent and Independent variables"
      ]
    },
    {
      "cell_type": "code",
      "metadata": {
        "id": "sihTHWehr9zj",
        "colab_type": "code",
        "colab": {}
      },
      "source": [
        "x = final['Job Title']\n",
        "y = final['Tag']"
      ],
      "execution_count": 0,
      "outputs": []
    },
    {
      "cell_type": "markdown",
      "metadata": {
        "id": "qwhBh46AsrDR",
        "colab_type": "text"
      },
      "source": [
        "## Splitting the data set in Training and Testing data"
      ]
    },
    {
      "cell_type": "code",
      "metadata": {
        "id": "nIS66vMnseCW",
        "colab_type": "code",
        "colab": {}
      },
      "source": [
        "from sklearn.model_selection import train_test_split\n",
        "X_train, x_test, Y_train, y_test = train_test_split(x, y, test_size = 0.3, random_state = 0)"
      ],
      "execution_count": 0,
      "outputs": []
    },
    {
      "cell_type": "code",
      "metadata": {
        "id": "yBqF3hWMtM99",
        "colab_type": "code",
        "outputId": "76bd58de-7cf1-4e41-a7d4-27bf8fe0ed43",
        "colab": {
          "base_uri": "https://localhost:8080/",
          "height": 90
        }
      },
      "source": [
        "print(X_train.shape)\n",
        "print(x_test.shape)\n",
        "print(Y_train.shape)\n",
        "print(y_test.shape)"
      ],
      "execution_count": 66,
      "outputs": [
        {
          "output_type": "stream",
          "text": [
            "(24,)\n",
            "(11,)\n",
            "(24,)\n",
            "(11,)\n"
          ],
          "name": "stdout"
        }
      ]
    },
    {
      "cell_type": "markdown",
      "metadata": {
        "id": "3JecF97gtiEm",
        "colab_type": "text"
      },
      "source": [
        "## Before Sampling"
      ]
    },
    {
      "cell_type": "code",
      "metadata": {
        "id": "kpNtqQGWtS1i",
        "colab_type": "code",
        "outputId": "77d72031-a0e7-4870-b0a3-abd665bda375",
        "colab": {
          "base_uri": "https://localhost:8080/",
          "height": 54
        }
      },
      "source": [
        "print(sum(Y_train==0))\n",
        "print(sum(Y_train==1))"
      ],
      "execution_count": 67,
      "outputs": [
        {
          "output_type": "stream",
          "text": [
            "4\n",
            "20\n"
          ],
          "name": "stdout"
        }
      ]
    },
    {
      "cell_type": "markdown",
      "metadata": {
        "id": "2-cWNDwWt-ma",
        "colab_type": "text"
      },
      "source": [
        "## Now we need to convert 'Job TItles' as Vectors in order to sample it with NearMiss."
      ]
    },
    {
      "cell_type": "markdown",
      "metadata": {
        "id": "GbW4TuUoIqWK",
        "colab_type": "text"
      },
      "source": [
        "### Before applying to the Vectorizer we will create a Variable and storing the Job Titles. This is going to be used to apply the transform. \n"
      ]
    },
    {
      "cell_type": "code",
      "metadata": {
        "id": "Lgdnbm9lI8WZ",
        "colab_type": "code",
        "colab": {}
      },
      "source": [
        "transform = final['Job Title']"
      ],
      "execution_count": 0,
      "outputs": []
    },
    {
      "cell_type": "markdown",
      "metadata": {
        "id": "-9kafQtBBeoc",
        "colab_type": "text"
      },
      "source": [
        "## Count Vectorizer"
      ]
    },
    {
      "cell_type": "code",
      "metadata": {
        "id": "D6KTZrDwuYer",
        "colab_type": "code",
        "colab": {}
      },
      "source": [
        "# Converting the TItle to Vector\n",
        "# CountVectorizer\n",
        "from sklearn.feature_extraction.text import CountVectorizer\n",
        "vectorizer = CountVectorizer()\n",
        "vectorizer.fit(transform)\n",
        "train = vectorizer.transform(X_train)\n",
        "test = vectorizer.transform(x_test)"
      ],
      "execution_count": 0,
      "outputs": []
    },
    {
      "cell_type": "code",
      "metadata": {
        "id": "qN2dKT4tulBY",
        "colab_type": "code",
        "outputId": "1efd1442-719d-4939-9860-7ceb6e3af427",
        "colab": {
          "base_uri": "https://localhost:8080/",
          "height": 54
        }
      },
      "source": [
        "print(train.shape)\n",
        "print(test.shape)"
      ],
      "execution_count": 70,
      "outputs": [
        {
          "output_type": "stream",
          "text": [
            "(24, 33)\n",
            "(11, 33)\n"
          ],
          "name": "stdout"
        }
      ]
    },
    {
      "cell_type": "code",
      "metadata": {
        "id": "WQ4q7_8QuhJA",
        "colab_type": "code",
        "outputId": "eb311bed-3f9b-418c-e381-d7c82f479d6a",
        "colab": {
          "base_uri": "https://localhost:8080/",
          "height": 476
        }
      },
      "source": [
        "print(type(train))\n",
        "print(train.toarray())"
      ],
      "execution_count": 71,
      "outputs": [
        {
          "output_type": "stream",
          "text": [
            "<class 'scipy.sparse.csr.csr_matrix'>\n",
            "[[0 0 0 0 0 0 0 0 0 0 0 0 0 0 0 0 0 1 0 0 0 0 0 0 0 0 0 0 0 0 0 0 0]\n",
            " [0 0 0 0 0 0 0 0 0 0 0 0 0 0 0 0 0 0 0 0 0 1 0 0 0 0 0 0 0 0 0 0 0]\n",
            " [0 0 0 0 0 0 0 0 0 0 0 0 1 0 0 0 0 0 0 0 0 0 0 0 0 0 0 0 0 0 0 0 0]\n",
            " [0 0 0 0 0 0 0 0 0 1 0 0 0 0 0 0 0 0 0 0 0 0 0 0 0 0 0 0 0 0 0 0 0]\n",
            " [0 0 0 0 0 0 0 0 0 0 0 0 0 0 0 0 0 0 0 0 0 0 0 0 0 0 0 0 1 0 0 0 0]\n",
            " [0 0 0 0 0 0 0 0 0 0 0 0 0 0 0 0 0 0 0 0 0 0 0 0 1 0 0 0 0 0 0 0 0]\n",
            " [0 0 0 0 0 0 0 0 0 0 0 0 0 0 0 0 0 0 0 0 0 0 0 0 0 0 0 1 0 0 0 0 0]\n",
            " [0 0 0 0 0 0 0 0 0 0 0 0 0 0 0 0 0 0 0 0 0 0 0 0 0 0 0 0 0 0 1 0 0]\n",
            " [0 0 0 0 0 0 0 0 0 0 0 0 0 0 0 0 0 0 0 0 0 0 0 0 0 0 1 0 0 0 0 0 0]\n",
            " [0 0 0 0 0 1 0 0 0 0 0 0 0 0 0 0 0 0 0 0 0 0 0 0 0 0 0 0 0 0 0 0 0]\n",
            " [0 0 0 0 0 0 0 0 0 0 0 0 0 1 0 0 0 0 0 0 0 0 0 0 0 0 0 0 0 0 0 0 0]\n",
            " [0 0 0 0 0 0 0 0 0 0 0 0 0 0 0 0 0 0 0 0 1 0 0 0 0 0 0 0 0 0 0 0 0]\n",
            " [0 0 0 1 0 0 0 0 0 0 0 0 0 0 0 0 0 0 0 0 0 0 0 0 0 0 0 0 0 0 0 0 0]\n",
            " [0 0 0 0 0 0 0 0 0 0 0 0 0 0 0 0 0 0 0 0 0 0 0 0 0 1 0 0 0 0 0 0 0]\n",
            " [0 0 0 0 0 0 0 0 0 0 0 1 0 0 0 0 0 0 0 0 0 0 0 0 0 0 0 0 0 0 0 0 0]\n",
            " [0 0 0 0 0 0 0 0 0 0 0 0 0 0 0 0 0 0 0 0 0 0 0 0 0 0 0 0 0 1 0 0 0]\n",
            " [0 0 0 0 0 0 0 0 1 0 0 0 0 0 0 0 0 0 0 0 0 0 0 0 0 0 0 0 0 0 0 0 0]\n",
            " [0 1 0 0 0 0 0 0 0 0 0 0 0 0 0 0 0 0 0 0 0 0 0 0 0 0 0 0 0 0 0 0 0]\n",
            " [1 0 0 0 0 0 0 0 0 0 0 0 0 0 0 0 0 0 0 0 0 0 0 0 0 0 0 0 0 0 0 0 0]\n",
            " [0 0 0 0 1 0 0 0 0 0 0 0 0 0 0 0 0 0 0 0 0 0 0 0 0 0 0 0 0 0 0 0 0]\n",
            " [0 0 0 0 0 0 0 0 0 0 0 0 0 0 0 0 0 0 0 0 0 0 0 0 0 0 0 0 0 0 0 1 0]\n",
            " [0 0 0 0 0 0 0 0 0 0 0 0 0 0 0 0 1 0 0 0 0 0 0 0 0 0 0 0 0 0 0 0 0]\n",
            " [0 0 0 0 0 0 0 0 0 0 0 0 0 0 0 0 0 0 0 0 0 0 0 1 0 0 0 0 0 0 0 0 0]\n",
            " [0 0 0 0 0 0 0 0 0 0 0 0 0 0 0 0 0 0 1 0 0 0 0 0 0 0 0 0 0 0 0 0 0]]\n"
          ],
          "name": "stdout"
        }
      ]
    },
    {
      "cell_type": "code",
      "metadata": {
        "id": "4A3136UHva9i",
        "colab_type": "code",
        "outputId": "bf244439-dd28-49ef-f1fc-c3637006327e",
        "colab": {
          "base_uri": "https://localhost:8080/",
          "height": 237
        }
      },
      "source": [
        "print(type(test))\n",
        "print(test.toarray())"
      ],
      "execution_count": 72,
      "outputs": [
        {
          "output_type": "stream",
          "text": [
            "<class 'scipy.sparse.csr.csr_matrix'>\n",
            "[[0 0 0 0 0 0 0 0 0 0 0 0 0 0 1 0 0 0 0 0 0 0 0 0 0 0 0 0 0 0 0 0 0]\n",
            " [0 0 0 0 0 0 0 1 0 0 0 0 0 0 0 0 0 0 0 0 0 0 0 0 0 0 0 0 0 0 0 0 0]\n",
            " [0 0 0 0 0 0 0 0 0 0 0 0 0 0 0 1 0 0 0 0 0 0 0 0 0 0 0 0 0 0 0 0 0]\n",
            " [0 0 0 0 0 0 0 0 0 0 0 0 0 0 0 1 0 0 0 0 0 0 0 0 0 0 0 0 0 0 0 0 0]\n",
            " [0 0 0 0 0 0 0 0 0 0 0 0 0 0 0 0 0 0 0 1 0 0 0 0 0 0 0 0 0 0 0 0 0]\n",
            " [0 0 0 0 0 0 0 0 0 0 0 0 0 0 0 0 0 0 0 0 0 0 1 0 0 0 0 0 0 0 0 0 0]\n",
            " [0 0 0 0 0 0 0 0 0 0 0 0 1 0 0 0 0 0 0 0 0 0 0 0 0 0 0 0 0 0 0 0 0]\n",
            " [0 0 1 0 0 0 0 0 0 0 0 0 0 0 0 0 0 0 0 0 0 0 0 0 0 0 0 0 0 0 0 0 0]\n",
            " [0 0 0 0 0 0 0 0 0 0 1 0 0 0 0 0 0 0 0 0 0 0 0 0 0 0 0 0 0 0 0 0 0]\n",
            " [0 0 0 0 0 0 1 0 0 0 0 0 0 0 0 0 0 0 0 0 0 0 0 0 0 0 0 0 0 0 0 0 0]\n",
            " [0 0 0 0 0 0 0 0 0 0 0 0 0 0 0 0 0 0 0 0 0 0 0 0 0 0 0 0 0 0 0 0 1]]\n"
          ],
          "name": "stdout"
        }
      ]
    },
    {
      "cell_type": "code",
      "metadata": {
        "id": "6GguNanxvduL",
        "colab_type": "code",
        "outputId": "2b8013e9-0118-4f21-c33e-3e24999855ab",
        "colab": {
          "base_uri": "https://localhost:8080/",
          "height": 623
        }
      },
      "source": [
        "import pprint\n",
        "pprint.pprint(vectorizer.vocabulary_)"
      ],
      "execution_count": 73,
      "outputs": [
        {
          "output_type": "stream",
          "text": [
            "{'accountmanager': 0,\n",
            " 'areamanager': 1,\n",
            " 'associateeditor': 2,\n",
            " 'branchmanager': 3,\n",
            " 'businessdevelopmentmanager': 4,\n",
            " 'chiefmarketingofficer': 5,\n",
            " 'corporatemarketingcommunications': 6,\n",
            " 'countrymanager': 7,\n",
            " 'customerrelationsmanager': 8,\n",
            " 'directormarketingcommunications': 9,\n",
            " 'grantsmanager': 10,\n",
            " 'managementmarketing': 11,\n",
            " 'marketingcommunicationsmanager': 12,\n",
            " 'marketingcoordinator': 13,\n",
            " 'marketingdirector': 14,\n",
            " 'marketingmanager': 15,\n",
            " 'mediacontact': 16,\n",
            " 'mediaservices': 17,\n",
            " 'newseditor': 18,\n",
            " 'owneroperator': 19,\n",
            " 'policyeditor': 20,\n",
            " 'presidentcorporatemarketing': 21,\n",
            " 'projectmanager': 22,\n",
            " 'publisher': 23,\n",
            " 'regionalmanager': 24,\n",
            " 'retentionmanager': 25,\n",
            " 'salesmanager': 26,\n",
            " 'seniormanager': 27,\n",
            " 'servicemanager': 28,\n",
            " 'staffwriter': 29,\n",
            " 'trademanager': 30,\n",
            " 'transportationmanager': 31,\n",
            " 'vicepresidentmarketing': 32}\n"
          ],
          "name": "stdout"
        }
      ]
    },
    {
      "cell_type": "markdown",
      "metadata": {
        "id": "ox1li_N8BmtC",
        "colab_type": "text"
      },
      "source": [
        "## Converting the Vectorized object to Array and storing in X_train."
      ]
    },
    {
      "cell_type": "code",
      "metadata": {
        "id": "-JIxXBuzyBay",
        "colab_type": "code",
        "outputId": "df71b9dc-f7d6-433a-921d-779b5a88189b",
        "colab": {
          "base_uri": "https://localhost:8080/",
          "height": 35
        }
      },
      "source": [
        "train_x = train.toarray()\n",
        "X_train = train_x\n",
        "X_train.shape"
      ],
      "execution_count": 74,
      "outputs": [
        {
          "output_type": "execute_result",
          "data": {
            "text/plain": [
              "(24, 33)"
            ]
          },
          "metadata": {
            "tags": []
          },
          "execution_count": 74
        }
      ]
    },
    {
      "cell_type": "markdown",
      "metadata": {
        "id": "l17hIgbtB0qD",
        "colab_type": "text"
      },
      "source": [
        "## Converting the Vectorized object to Array and storing in x_test."
      ]
    },
    {
      "cell_type": "code",
      "metadata": {
        "id": "zZsm6bhvyJsP",
        "colab_type": "code",
        "outputId": "8ec6b09d-4b02-4409-f159-b8250533c64d",
        "colab": {
          "base_uri": "https://localhost:8080/",
          "height": 35
        }
      },
      "source": [
        "test_x = test.toarray()\n",
        "x_test = test_x\n",
        "x_test.shape"
      ],
      "execution_count": 75,
      "outputs": [
        {
          "output_type": "execute_result",
          "data": {
            "text/plain": [
              "(11, 33)"
            ]
          },
          "metadata": {
            "tags": []
          },
          "execution_count": 75
        }
      ]
    },
    {
      "cell_type": "markdown",
      "metadata": {
        "id": "CB7yOjDDB4Mx",
        "colab_type": "text"
      },
      "source": [
        "## Mannaging the Imbalance by 'NearMiss'"
      ]
    },
    {
      "cell_type": "code",
      "metadata": {
        "id": "XUsSrvGJBNUU",
        "colab_type": "code",
        "colab": {}
      },
      "source": [
        "from imblearn.under_sampling  import NearMiss\n",
        "nr=NearMiss()\n",
        "x_train,y_train=nr.fit_sample(X_train, Y_train)\n"
      ],
      "execution_count": 0,
      "outputs": []
    },
    {
      "cell_type": "markdown",
      "metadata": {
        "id": "e4dR4QxwB9qR",
        "colab_type": "text"
      },
      "source": [
        "## Checking the balance."
      ]
    },
    {
      "cell_type": "code",
      "metadata": {
        "id": "aofBv9hHBNeX",
        "colab_type": "code",
        "outputId": "e54cc6c9-5754-4a00-9ecf-a4a005796f2a",
        "colab": {
          "base_uri": "https://localhost:8080/",
          "height": 54
        }
      },
      "source": [
        "print(sum(y_train==0))\n",
        "print(sum(y_train==1))"
      ],
      "execution_count": 77,
      "outputs": [
        {
          "output_type": "stream",
          "text": [
            "4\n",
            "4\n"
          ],
          "name": "stdout"
        }
      ]
    },
    {
      "cell_type": "markdown",
      "metadata": {
        "id": "0bD5WfogCA_5",
        "colab_type": "text"
      },
      "source": [
        "# Model Fitting and Accuracy"
      ]
    },
    {
      "cell_type": "markdown",
      "metadata": {
        "id": "OjjrX3LVKItd",
        "colab_type": "text"
      },
      "source": [
        "## Importing the important Libraries"
      ]
    },
    {
      "cell_type": "code",
      "metadata": {
        "id": "rlI4J7AMKNgH",
        "colab_type": "code",
        "colab": {}
      },
      "source": [
        "from sklearn import metrics\n",
        "from sklearn.metrics import roc_auc_score\n",
        "from sklearn.metrics import classification_report\n",
        "from sklearn.metrics import confusion_matrix"
      ],
      "execution_count": 0,
      "outputs": []
    },
    {
      "cell_type": "markdown",
      "metadata": {
        "id": "pLh5RmH_CD5I",
        "colab_type": "text"
      },
      "source": [
        "## Logistic Regression"
      ]
    },
    {
      "cell_type": "code",
      "metadata": {
        "id": "nbgfiJADBNhg",
        "colab_type": "code",
        "outputId": "94d6a121-1565-46aa-bf8f-38fd2a3a17a6",
        "colab": {
          "base_uri": "https://localhost:8080/",
          "height": 368
        }
      },
      "source": [
        "from sklearn.linear_model import LogisticRegression\n",
        "\n",
        "\n",
        "\n",
        "lr=LogisticRegression()\n",
        "lr.fit(X_train, Y_train)\n",
        "predict=lr.predict(x_test)\n",
        "accuracy=metrics.accuracy_score(y_test,predict)\n",
        "print(\"logistic regression accuracy:\", accuracy*100)\n",
        "\n",
        "print(\"area under curve\")\n",
        "print(roc_auc_score(y_test,predict))\n",
        "print(classification_report(y_test,predict))\n",
        "print(confusion_matrix(y_test,predict))"
      ],
      "execution_count": 0,
      "outputs": [
        {
          "output_type": "stream",
          "text": [
            "logistic regression accuracy: 90.9090909090909\n",
            "area under curve\n",
            "0.5\n",
            "              precision    recall  f1-score   support\n",
            "\n",
            "           0       0.00      0.00      0.00         1\n",
            "           1       0.91      1.00      0.95        10\n",
            "\n",
            "    accuracy                           0.91        11\n",
            "   macro avg       0.45      0.50      0.48        11\n",
            "weighted avg       0.83      0.91      0.87        11\n",
            "\n",
            "[[ 0  1]\n",
            " [ 0 10]]\n"
          ],
          "name": "stdout"
        },
        {
          "output_type": "stream",
          "text": [
            "/usr/local/lib/python3.6/dist-packages/sklearn/linear_model/logistic.py:432: FutureWarning: Default solver will be changed to 'lbfgs' in 0.22. Specify a solver to silence this warning.\n",
            "  FutureWarning)\n",
            "/usr/local/lib/python3.6/dist-packages/sklearn/metrics/classification.py:1437: UndefinedMetricWarning: Precision and F-score are ill-defined and being set to 0.0 in labels with no predicted samples.\n",
            "  'precision', 'predicted', average, warn_for)\n"
          ],
          "name": "stderr"
        }
      ]
    },
    {
      "cell_type": "markdown",
      "metadata": {
        "id": "MFdVl9kbJr2G",
        "colab_type": "text"
      },
      "source": [
        "## Decission Tree"
      ]
    },
    {
      "cell_type": "code",
      "metadata": {
        "id": "18DmZdsYBNoz",
        "colab_type": "code",
        "outputId": "6641881f-280b-4ce6-ed0d-ce5a5bdc6912",
        "colab": {
          "base_uri": "https://localhost:8080/",
          "height": 35
        }
      },
      "source": [
        "from sklearn.tree import DecisionTreeClassifier\n",
        "\n",
        "dc=DecisionTreeClassifier()\n",
        "dc.fit(x_train,y_train)\n",
        "predict=dc.predict(x_test)\n",
        "accuracy=metrics.accuracy_score(y_test,predict)\n",
        "print(\"Decision Tree accuracy:\", accuracy*100)"
      ],
      "execution_count": 0,
      "outputs": [
        {
          "output_type": "stream",
          "text": [
            "Decision Tree accuracy: 90.9090909090909\n"
          ],
          "name": "stdout"
        }
      ]
    },
    {
      "cell_type": "markdown",
      "metadata": {
        "id": "jMiKkS9Zgu7V",
        "colab_type": "text"
      },
      "source": [
        "## Gaussian Method"
      ]
    },
    {
      "cell_type": "code",
      "metadata": {
        "id": "8qf9V9GsBNlU",
        "colab_type": "code",
        "colab": {
          "base_uri": "https://localhost:8080/",
          "height": 35
        },
        "outputId": "dbb89b49-1da2-4ebe-a47e-bc71b637f903"
      },
      "source": [
        "from sklearn.naive_bayes import GaussianNB\n",
        "\n",
        "gnb=GaussianNB()\n",
        "gnb.fit(x_train,y_train)\n",
        "predict=gnb.predict(x_test)\n",
        "accuracy=metrics.accuracy_score(y_test,predict)\n",
        "print(\"Naive Bayes classifier:\", accuracy*100)\n"
      ],
      "execution_count": 85,
      "outputs": [
        {
          "output_type": "stream",
          "text": [
            "Naive Bayes classifier: 81.81818181818183\n"
          ],
          "name": "stdout"
        }
      ]
    },
    {
      "cell_type": "markdown",
      "metadata": {
        "id": "RSnGdtprg50s",
        "colab_type": "text"
      },
      "source": [
        "## Random Forest"
      ]
    },
    {
      "cell_type": "code",
      "metadata": {
        "id": "UfeEJ2sEBNRI",
        "colab_type": "code",
        "colab": {
          "base_uri": "https://localhost:8080/",
          "height": 72
        },
        "outputId": "2540ff18-5e13-4c93-8914-f925a1b37ccd"
      },
      "source": [
        "from sklearn.ensemble import RandomForestClassifier\n",
        "\n",
        "rf=RandomForestClassifier()\n",
        "rf.fit(x_train,y_train)\n",
        "predict=rf.predict(x_test)\n",
        "accuracy=metrics.accuracy_score(y_test,predict)\n",
        "print(\"Random forest classifier:\", accuracy*100)\n"
      ],
      "execution_count": 83,
      "outputs": [
        {
          "output_type": "stream",
          "text": [
            "Random forest classifier: 90.9090909090909\n"
          ],
          "name": "stdout"
        },
        {
          "output_type": "stream",
          "text": [
            "/usr/local/lib/python3.6/dist-packages/sklearn/ensemble/forest.py:245: FutureWarning: The default value of n_estimators will change from 10 in version 0.20 to 100 in 0.22.\n",
            "  \"10 in version 0.20 to 100 in 0.22.\", FutureWarning)\n"
          ],
          "name": "stderr"
        }
      ]
    },
    {
      "cell_type": "markdown",
      "metadata": {
        "id": "jb7I5RFdhGDg",
        "colab_type": "text"
      },
      "source": [
        "# End of Notebook"
      ]
    }
  ]
}